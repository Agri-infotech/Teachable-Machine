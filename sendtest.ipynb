{
 "cells": [
  {
   "cell_type": "code",
   "execution_count": 75,
   "metadata": {},
   "outputs": [
    {
     "name": "stdout",
     "output_type": "stream",
     "text": [
      "Last element of list  0.8798516\n"
     ]
    }
   ],
   "source": [
    "#----- A simple TCP client program in Python using send() function -----\n",
    "\n",
    "import socket\n",
    "import tensorflow as tf\n",
    " \n",
    "dummyTensor =  tf.random.uniform(\n",
    "        shape = [1, 43, 232, 1],\n",
    "        minval = -1,\n",
    "        maxval = 1\n",
    "      )\n",
    "# Create a client socket\n",
    "flattened =(tf.reshape(dummyTensor,[43*232])).numpy()\n",
    "\n",
    "\n",
    "#print(flattened[0])\n",
    "print(\"Last element of list \",flattened[-1])\n",
    "clientSocket = socket.socket(socket.AF_INET, socket.SOCK_STREAM);\n",
    "\n",
    "\n",
    "# Connect to the server\n",
    " \n",
    "\n",
    "\n",
    "clientSocket.connect((\"127.0.0.1\",6000));\n",
    "# Send data to server\n",
    "\n",
    "\n",
    "clientSocket.send(flattened.tobytes());\n",
    "\n",
    "clientSocket.close();\n",
    " \n"
   ]
  },
  {
   "cell_type": "code",
   "execution_count": null,
   "metadata": {},
   "outputs": [],
   "source": []
  }
 ],
 "metadata": {
  "kernelspec": {
   "display_name": "Python 3.10.4 64-bit",
   "language": "python",
   "name": "python3"
  },
  "language_info": {
   "codemirror_mode": {
    "name": "ipython",
    "version": 3
   },
   "file_extension": ".py",
   "mimetype": "text/x-python",
   "name": "python",
   "nbconvert_exporter": "python",
   "pygments_lexer": "ipython3",
   "version": "3.10.4"
  },
  "orig_nbformat": 4,
  "vscode": {
   "interpreter": {
    "hash": "8c3d4d9970fc5c09c50d9318a9c7fbf4d0159e4b28833276f5678ee22bded273"
   }
  }
 },
 "nbformat": 4,
 "nbformat_minor": 2
}
